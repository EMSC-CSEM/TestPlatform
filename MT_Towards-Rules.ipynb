{
 "cells": [
  {
   "cell_type": "markdown",
   "metadata": {
    "extensions": {
     "jupyter_dashboards": {
      "version": 1,
      "views": {
       "grid_default": {
        "col": 0,
        "height": 6,
        "hidden": false,
        "row": 0,
        "width": 12
       },
       "report_default": {}
      }
     }
    }
   },
   "source": [
    "---\n",
    "\n",
    "---\n",
    "# <p style=\"text-align: center\"> TOWARDS RULES FOR MOMENT TENSORS </p>\n",
    "---\n",
    "\n",
    "---"
   ]
  },
  {
   "cell_type": "markdown",
   "metadata": {
    "extensions": {
     "jupyter_dashboards": {
      "version": 1,
      "views": {
       "grid_default": {
        "col": 4,
        "height": 4,
        "hidden": false,
        "row": 18,
        "width": 4
       },
       "report_default": {}
      }
     }
    }
   },
   "source": [
    "## <p style=\"text-align: center\"> 1. Use of the Seismic Portal MT <span style=\"color:red\"> Web Service </span> </p>"
   ]
  },
  {
   "cell_type": "code",
   "execution_count": null,
   "metadata": {
    "collapsed": false,
    "extensions": {
     "jupyter_dashboards": {
      "version": 1,
      "views": {
       "grid_default": {
        "col": 8,
        "height": 11,
        "hidden": false,
        "row": 19,
        "width": 4
       },
       "report_default": {}
      }
     }
    }
   },
   "outputs": [],
   "source": [
    "from IPython.core.display import Image, display, HTML\n",
    "display(Image('FIG_EPOS_WS_Moment-Tensors.png', width=300))"
   ]
  },
  {
   "cell_type": "code",
   "execution_count": null,
   "metadata": {
    "collapsed": false,
    "extensions": {
     "jupyter_dashboards": {
      "version": 1,
      "views": {
       "grid_default": {
        "col": 0,
        "height": 15,
        "hidden": false,
        "row": 76,
        "width": 9
       },
       "report_default": {}
      }
     }
    },
    "scrolled": true
   },
   "outputs": [],
   "source": [
    "from IPython.display import HTML\n",
    "HTML('<iframe src=http://www.seismicportal.eu/mtws/ width=800 height=400></iframe>')"
   ]
  },
  {
   "cell_type": "code",
   "execution_count": null,
   "metadata": {
    "collapsed": false,
    "extensions": {
     "jupyter_dashboards": {
      "version": 1,
      "views": {
       "grid_default": {
        "hidden": true
       },
       "report_default": {}
      }
     }
    }
   },
   "outputs": [],
   "source": [
    "# ==================================\n",
    "# Main functions used\n",
    "# ==================================\n",
    "#\n",
    "# Func-Download\n",
    "def geturl(url):\n",
    "    import requests\n",
    "    res = requests.get(url, timeout=15)\n",
    "    return {'status': res.status_code,\n",
    "            'content': res.text}\n",
    "#\n",
    "# Func-Parse (txt)\n",
    "def parsecsv(txt, usedict=False):\n",
    "    import csv\n",
    "    from io import StringIO\n",
    "    if usedict:\n",
    "        parser = csv.DictReader(StringIO(txt), delimiter='|')\n",
    "    else:\n",
    "        parser = csv.reader(StringIO(txt), delimiter='|')        \n",
    "    return [line for line in parser]\n",
    "# =================================="
   ]
  },
  {
   "cell_type": "code",
   "execution_count": null,
   "metadata": {
    "collapsed": false,
    "extensions": {
     "jupyter_dashboards": {
      "version": 1,
      "views": {
       "grid_default": {
        "hidden": true
       },
       "report_default": {}
      }
     }
    }
   },
   "outputs": [],
   "source": [
    "%%capture all_mt\n",
    "\n",
    "# ==================================\n",
    "# Moment Tensor - Example 1\n",
    "# Multiple events case.\n",
    "# ==================================\n",
    "#\n",
    "# Build URL\n",
    "url = 'http://vigogne.emsc-csem.org/mtws/api/search\\\n",
    "?starttime=2017-10-01&endtime=2017-10-19&minmag=6&format=text'\n",
    "#\n",
    "# Download\n",
    "res = geturl(url)\n",
    "#\n",
    "# Parse\n",
    "mt_data = parsecsv(res['content'], usedict=True)\n",
    "#\n",
    "# How many distinct events?\n",
    "allid = set([ mt['#ev_unid'] for mt in mt_data ])\n",
    "print(\"<Raw selection - all MT available:\\ndata recovered contains {0} events for {1} moment-tensors >\\n\".format(len(allid), len(mt_data)))\n",
    "#\n",
    "# Print data\n",
    "for mt in mt_data:\n",
    "    print(\"{mt_source_catalog:4} --> Unid: {#ev_unid}, Strike: {mt_strike_1:4}, Dip: {mt_dip_1:3}, Rake: {mt_rake_1:4}\".format(**mt))\n",
    "# ==================================    "
   ]
  },
  {
   "cell_type": "code",
   "execution_count": null,
   "metadata": {
    "collapsed": false,
    "extensions": {
     "jupyter_dashboards": {
      "version": 1,
      "views": {
       "grid_default": {
        "hidden": true
       },
       "report_default": {}
      }
     }
    }
   },
   "outputs": [],
   "source": [
    "%%capture aut_mt          \n",
    "\n",
    "# ==================================\n",
    "# Moment Tensor - Example 2\n",
    "# Authoritative law \"preferredOnly\".\n",
    "# ==================================\n",
    "#\n",
    "# Build URL custom with \"preferredOnly\"\n",
    "url = 'http://vigogne.emsc-csem.org/mtws/api/search\\\n",
    "?starttime=2017-10-01&endtime=2017-10-19&minmag=6&format=text&preferredOnly=true'\n",
    "#\n",
    "# Download and Parse\n",
    "mt_data = parsecsv(geturl(url)['content'], usedict=True)\n",
    "#\n",
    "# How many distinct events?\n",
    "allid = set([ mt['#ev_unid'] for mt in mt_data ])\n",
    "print(\"\\n<Authoritative law - preferredOnly rule:\\ndata recovered contains {0} events for {1} moment-tensors >\\n\".format(len(allid), len(mt_data)))\n",
    "#\n",
    "# Print data\n",
    "for mt in mt_data:\n",
    "    print(\"{mt_source_catalog:4} --> Unid: {#ev_unid}, Strike: {mt_strike_1:4}, Dip: {mt_dip_1:3}, Rake: {mt_rake_1:4}\".format(**mt))\n",
    "# ==================================    "
   ]
  },
  {
   "cell_type": "code",
   "execution_count": null,
   "metadata": {
    "collapsed": false,
    "extensions": {
     "jupyter_dashboards": {
      "version": 1,
      "views": {
       "grid_default": {
        "col": 0,
        "height": 47,
        "hidden": false,
        "row": 6,
        "width": 4
       },
       "report_default": {}
      }
     }
    }
   },
   "outputs": [],
   "source": [
    "all_mt() # Print multiple events case.\n",
    "aut_mt() # Print authoritative law \"preferredOnly\""
   ]
  },
  {
   "cell_type": "markdown",
   "metadata": {
    "extensions": {
     "jupyter_dashboards": {
      "version": 1,
      "views": {
       "grid_default": {
        "col": 0,
        "height": 11,
        "hidden": false,
        "row": 53,
        "width": 12
       },
       "report_default": {}
      }
     }
    }
   },
   "source": [
    "As long as no authoritative rule exists to define a **preferred** *moment tensor solution*, the following criteria have been arbitrarily chosen (fore more details, see [Moment Tensor Web Service Specifications](https://www.emsc-csem.org/Files/epos/specifications/Specs_MT-WS.pdf)):\n",
    "\n",
    "    1- Online services providing moment tensors with a global coverage are considered first.\n",
    "       \n",
    "       If possible, the preferred solution will be firstly:\n",
    "       \n",
    "       => from Global CMT, then\n",
    "        => from USGS, then\n",
    "         => from CPPT and then\n",
    "          => from INGV.\n",
    "\n",
    "    2- If no solution is found, the moment tensor having the centroid location the closest to the EMSC event location (referenced by the UNID) is chosen."
   ]
  },
  {
   "cell_type": "markdown",
   "metadata": {
    "extensions": {
     "jupyter_dashboards": {
      "version": 1,
      "views": {
       "grid_default": {
        "col": 4,
        "height": 4,
        "hidden": false,
        "row": 22,
        "width": 4
       },
       "report_default": {}
      }
     }
    }
   },
   "source": [
    "## <p style=\"text-align: center\"> 2. Use of the HMB <span style=\"color:red\"> Messaging Service </span> </p>"
   ]
  },
  {
   "cell_type": "markdown",
   "metadata": {
    "extensions": {
     "jupyter_dashboards": {
      "version": 1,
      "views": {
       "grid_default": {
        "col": 0,
        "height": 6,
        "hidden": false,
        "row": 64,
        "width": 12
       },
       "report_default": {}
      }
     }
    }
   },
   "source": [
    "### Envisioned mechanism to test MT-rules\n"
   ]
  },
  {
   "cell_type": "code",
   "execution_count": null,
   "metadata": {
    "collapsed": false,
    "extensions": {
     "jupyter_dashboards": {
      "version": 1,
      "views": {
       "grid_default": {
        "col": 4,
        "height": 12,
        "hidden": false,
        "row": 6,
        "width": 4
       },
       "report_default": {}
      }
     }
    },
    "scrolled": false
   },
   "outputs": [],
   "source": [
    "from IPython.core.display import Image, display, HTML\n",
    "display(Image('FIG_EPOS_Testplatform_MTrule.png', width=800))"
   ]
  },
  {
   "cell_type": "markdown",
   "metadata": {
    "extensions": {
     "jupyter_dashboards": {
      "version": 1,
      "views": {
       "grid_default": {
        "col": 0,
        "height": 6,
        "hidden": false,
        "row": 70,
        "width": 12
       },
       "report_default": {}
      }
     }
    }
   },
   "source": [
    "### What are the MT-rules?"
   ]
  },
  {
   "cell_type": "markdown",
   "metadata": {
    "extensions": {
     "jupyter_dashboards": {
      "version": 1,
      "views": {
       "grid_default": {
        "col": 0,
        "height": 4,
        "hidden": false,
        "row": 91,
        "width": 12
       },
       "report_default": {}
      }
     }
    }
   },
   "source": [
    "* Rule #0 => Centroïd the closest to EMSC solution. \n",
    "* Rule #1 => Moment tensor the first published by an european seismological agency.\n",
    "* Rule #2 => Moment tensor where the MW magnitude is the strongest.\n",
    "* Rule #3 => Moment tensor where the seismic moment is the highest."
   ]
  },
  {
   "cell_type": "code",
   "execution_count": null,
   "metadata": {
    "collapsed": false,
    "extensions": {
     "jupyter_dashboards": {
      "version": 1,
      "views": {
       "grid_default": {
        "col": 8,
        "height": 13,
        "hidden": false,
        "row": 6,
        "width": 4
       },
       "report_default": {}
      }
     }
    },
    "scrolled": true
   },
   "outputs": [],
   "source": [
    "from IPython.core.display import Image, display, HTML\n",
    "display(Image('FIG_EPOS_Testplatform_MTrule_Frames.png', width=600))"
   ]
  },
  {
   "cell_type": "markdown",
   "metadata": {
    "collapsed": true,
    "extensions": {
     "jupyter_dashboards": {
      "version": 1,
      "views": {
       "grid_default": {
        "hidden": true
       },
       "report_default": {}
      }
     }
    }
   },
   "source": [
    "### How to recover MT-data in JSON format thanks to HMB?"
   ]
  },
  {
   "cell_type": "code",
   "execution_count": null,
   "metadata": {
    "collapsed": false,
    "extensions": {
     "jupyter_dashboards": {
      "version": 1,
      "views": {
       "grid_default": {
        "hidden": true
       },
       "report_default": {}
      }
     }
    }
   },
   "outputs": [],
   "source": [
    "#!/usr/bin/env python\n",
    "#-*-coding:utf-8-*-\n",
    "\"\"\"\n",
    "Copyright (c) 2015, EPOS Project\n",
    "EMSC - 01/09/2017\n",
    "\"\"\"\n",
    "\n",
    "import os, sys\n",
    "import bson.json_util\n",
    "from urllib import urlopen\n",
    "\n",
    "# Choose here the bus to subsribe:\n",
    "#BUS='http://cerf.emsc-csem.org:80/MTtest_rule0' # CLOSEST\n",
    "BUS='http://cerf.emsc-csem.org:80/MTtest_rule1'  # FASTER\n",
    "#BUS='http://cerf.emsc-csem.org:80/MTtest_rule2' # STRONGEST\n",
    "#BUS='http://cerf.emsc-csem.org:80/MTtest_rule3' # HIGHEST\n",
    "\n",
    "def utctime():\n",
    "    ''' UTC timestamp '''\n",
    "    import time, datetime\n",
    "    ts = time.time()\n",
    "    st = datetime.datetime.fromtimestamp(ts).strftime('%Y-%m-%d %H:%M:%S')\n",
    "    return st\n",
    "\n",
    "print(\"\\nConnecting to {0} and receiving objects:\\n\".format(BUS))\n",
    "\n",
    "param = {\n",
    "    'heartbeat': 10,\n",
    "    'queue': {\n",
    "        'SYSTEM_ALERT': {\n",
    "            'seq': -1\n",
    "        }\n",
    "    }\n",
    "}\n",
    "\n",
    "ack = bson.BSON(urlopen(BUS + '/open', bson.BSON.encode(param)).read()).decode()\n",
    "\n",
    "print bson.json_util.dumps(ack, indent=2)\n",
    "\n",
    "for msg in bson.decode_file_iter(urlopen(BUS + '/stream/' + str(ack['sid']))):\n",
    "\n",
    "    try:\n",
    "\n",
    "        QUEUE     = msg['queue']            # Name of the queue....[OK]\n",
    "        TYPE      = msg['type']             # Queue type...........[OK]\n",
    "        SENDER    = msg['sender']           # Name of the sender...[OK]\n",
    "        SEQ       = msg['seq']              # Sequence number......[OK]\n",
    "        LEVEL     = msg['data']['level']    # Level / action.......[OK]\n",
    "        DATA      = msg['data']['text']     # Data exchanged.......[OK]\n",
    "        FILENAME  = msg['data']['filename'] # Name of the file.....[OK]\n",
    "\n",
    "        if LEVEL=='txt':\n",
    "            ''' TEXT Mode '''\n",
    "            print(\"[{0} UTC] {1}\".format(utctime(), DATA))\n",
    "\n",
    "        elif LEVEL=='img':\n",
    "            ''' IMG Mode '''\n",
    "            import base64\n",
    "            print(\"Receiving IMG file...[OK]\\t <{0}>\".format(FILENAME))\n",
    "            f = open(FILENAME, 'wb')\n",
    "            f.write(DATA.decode('base64'))\n",
    "            f.close()\n",
    "\n",
    "        elif LEVEL=='qml':\n",
    "            ''' XML Mode '''\n",
    "            print(\"Receiving XML file...[OK]\\t <{0}>\".format(FILENAME))\n",
    "            f= open(FILENAME, 'w')\n",
    "            f.write(DATA.encode('utf-8'))\n",
    "            f.close()\n",
    "\n",
    "        else:\n",
    "            pass\n",
    "\n",
    "    except:\n",
    "        pass"
   ]
  },
  {
   "cell_type": "markdown",
   "metadata": {},
   "source": [
    "Below is presented a more sophisticated piece of code allowing automatic reconnection to the server by Robert Steed (EMSC). Please do not hesitate to contact him for more information."
   ]
  },
  {
   "cell_type": "code",
   "execution_count": 1,
   "metadata": {
    "collapsed": true,
    "extensions": {
     "jupyter_dashboards": {
      "version": 1,
      "views": {
       "grid_default": {
        "hidden": true
       },
       "report_default": {}
      }
     }
    }
   },
   "outputs": [],
   "source": [
    "#!/usr/bin/env python27\n",
    "\"\"\"Module for sending messages to an httpmsgbus server.\n",
    "   For more informations, please contact Robert Steed @ EMSC \"\"\"\n",
    "import requests\n",
    "import time\n",
    "import json\n",
    "import logging\n",
    "import bson\n",
    "import numbers\n",
    "\n",
    "######## Default Logger #####\n",
    "logger = logging.getLogger(\"hmb_messaging\")\n",
    "logger.setLevel(logging.INFO)\n",
    "if not logger.handlers:\n",
    "    # create console handler and set level to warning\n",
    "    ch = logging.StreamHandler()\n",
    "    ch.setLevel(logging.INFO)\n",
    "    # create formatter\n",
    "    formatter = logging.Formatter('%(asctime)s - %(levelname)s - %(name)s.%(process)d - %(message)s')\n",
    "    ch.setFormatter(formatter)\n",
    "    # add ch to logger\n",
    "    logger.addHandler(ch)\n",
    "#############################\n",
    "\n",
    "\n",
    "class Hmbsession(object):\n",
    "    def __init__(self, url, param={}, logger=logger, retry_wait=1, use_bson=False, autocreate_queues=False, **kwargs):\n",
    "        \"\"\"opens a session with an hmb server at provided url.\n",
    "        \n",
    "       param = {\n",
    "                \"cid\": <string>,\n",
    "                \"heartbeat\": <int>,\n",
    "                \"recv_limit\": <int>,\n",
    "                \"queue\": {\n",
    "                    <queue_name>: {\n",
    "                        \"topics\": <list of string>,\n",
    "                        \"seq\": <int>,\n",
    "                        \"endseq\": <int>,\n",
    "                        \"starttime\": <string>,\n",
    "                        \"endtime\": <string>,\n",
    "                        \"filter\": <doc>,\n",
    "                        \"qlen\": <int>,\n",
    "                        \"oowait\": <int>,\n",
    "                        \"keep\": <bool>\n",
    "                        },\n",
    "                    ...\n",
    "                    },\n",
    "                }\n",
    "       \"\"\"\n",
    "        self.url = url\n",
    "        self.param = param\n",
    "        self.connection_kwargs = kwargs\n",
    "        self._logger = logger\n",
    "        self.retry_wait = retry_wait\n",
    "        self._sid = None\n",
    "        self._oid = ''\n",
    "        self._use_json = not use_bson #flag selecting format of messages: either json or bson\n",
    "        self._autocreate_queues = autocreate_queues #This might sometimes prevent issues over missing queues\n",
    "        \"\"\"\n",
    "        if 'queue' in self.param:\n",
    "            # initially set 'keep' to false to get pending data\n",
    "            for q in self.param['queue'].values():\n",
    "                q['keep'] = False\n",
    "        \"\"\"\n",
    "    \n",
    "    def _open(self):\n",
    "        \"\"\"opens the HMB session\"\"\"\n",
    "        try:\n",
    "            headers = {\"Content-type\": \"application/json\" if self._use_json else \"application/bson\"}\n",
    "            r = requests.post(self.url + '/open', \n",
    "                        data=json.dumps(self.param) if self._use_json else bson.BSON.encode(self.param),\n",
    "                        headers=headers, **self.connection_kwargs)\n",
    "\n",
    "            if r.status_code == 400:\n",
    "                raise requests.exceptions.RequestException(\"bad request: \" + r.text.strip())\n",
    "\n",
    "            elif r.status_code == 503:\n",
    "                raise requests.exceptions.RequestException(\"service unavailable: \" + r.text.strip())\n",
    "\n",
    "            r.raise_for_status()\n",
    "\n",
    "            ack = r.json() if self._use_json else bson.BSON(r.content).decode()\n",
    "            self._sid = ack['sid']\n",
    "            self._oid = ''\n",
    "            self.param['cid'] = ack['cid']\n",
    "            \n",
    "            qinfo = ack.get('queue',{})\n",
    "            for qname,queue in qinfo.items():\n",
    "                seqnext = queue['seq']\n",
    "                if isinstance(seqnext,numbers.Integral) and qname in self.param['queue']:\n",
    "                    if seqnext > self.param['queue'][qname].get('seq',None):\n",
    "                        self.param['queue'][qname]['seq'] = seqnext #next message number\n",
    "            \n",
    "            #errors or missing queues\n",
    "            for qname,queue in qinfo.items():\n",
    "                error = queue.get('error',None)\n",
    "                if error:\n",
    "                    self._logger.warning(\"HMB server gives an error for queue '%s': %s\",qname,error)\n",
    "                    \n",
    "                    #if queue not found then create queue?\n",
    "                    if error == u'queue not found' and self._autocreate_queues:\n",
    "                        msg = {'type':'TOUCH','queue':qname}\n",
    "                        self.send({'0':msg} if self._use_json else msg)\n",
    "                        self.param['queue'][qname]['seq'] = 1\n",
    "                        self._logger.warning(\"created queue '%s' by sending test message\",qname)\n",
    "                    \n",
    "            \n",
    "            self._logger.info(\"session opened, sid=%s, cid=%s\",ack['sid'], ack['cid'])\n",
    "            self._logger.info(\"session parameters are: %r\",self.param)\n",
    "\n",
    "        except requests.exceptions.RequestException as e:\n",
    "            errmsg = str(e)\n",
    "            if \"service unavailable\" in errmsg: \n",
    "                errmsg = \"service unavailable: The server is down due to maintenance downtime or capacity problems\"\n",
    "            self._logger.warning(\"error: %s\",errmsg)\n",
    "            self._logger.warning(\"connection to message bus failed\")\n",
    "            \n",
    "    def info(self):\n",
    "        \"\"\"gets info from the hmb server on defined queues, topics and available\n",
    "        data.\"\"\"\n",
    "        try:\n",
    "            return self._info_request('info')\n",
    "        except requests.exceptions.RequestException as e:\n",
    "            self._logger.error(\"error getting info: %s\",str(e))\n",
    "            return None\n",
    "\n",
    "    def features(self):\n",
    "        \"\"\"gets functions and capabilities supported by the server and optionally\n",
    "        the name and version of the server software.\"\"\"\n",
    "        try:\n",
    "            return self._info_request('features')\n",
    "        except requests.exceptions.RequestException as e:\n",
    "            self._logger.error(\"error getting features: %s\",str(e))\n",
    "            return None\n",
    "    \n",
    "    def status(self):\n",
    "        \"\"\"gets status of connected clients (sessions).\"\"\"\n",
    "        try:\n",
    "            return self._info_request('status')\n",
    "        except requests.exceptions.RequestException as e:\n",
    "            self._logger.error(\"error getting status: %s\",str(e))\n",
    "            return None\n",
    "    \n",
    "    def _info_request(self,cmd):\n",
    "        \"\"\"gets info, functions and capabilities supported by the server.\"\"\"\n",
    "        r = requests.get(self.url + '/'+cmd, **self.connection_kwargs)\n",
    "\n",
    "        if r.status_code == 400:\n",
    "            raise requests.exceptions.RequestException(\"bad request: \" + r.text.strip())\n",
    "\n",
    "        elif r.status_code == 503:\n",
    "            raise requests.exceptions.RequestException(\"service unavailable: \" + r.text.strip())\n",
    "\n",
    "        r.raise_for_status()     \n",
    "        \n",
    "        return r.json()\n",
    "                        \n",
    "    def set_format(self,use_bson):\n",
    "        \"\"\"defines whether connection object should use bson or json \n",
    "        note that this may force the connection to the server to be reestablished.\n",
    "        \"\"\"\n",
    "        if not isinstance(use_bson,bool): \n",
    "            raise TypeError(\"use_bson must be a boolean value\")\n",
    "        if self._use_json != use_bson:\n",
    "            #no change to format so do nothing\n",
    "            pass\n",
    "        else:\n",
    "            self._use_json = not use_bson\n",
    "            self._sid = None #mark session as closed\n",
    "    \n",
    "    def send_msg(self,mtype,queue,data,topic=None,retries=1,**kwargs):\n",
    "        \"\"\"send single message to HMB session.\n",
    "            mtype - message type (string)\n",
    "            queue - destination queue of the message\n",
    "            data - json compatible payload\n",
    "            topic - optional tag for the message\n",
    "            retries - number of times to retry sending message\n",
    "            kwargs - any extra keyvalues to put in the message ie. seq, starttime, endtime\n",
    "        \"\"\"\n",
    "        msg = {\"type\":mtype,\n",
    "               \"queue\":queue,\n",
    "               \"data\":data}\n",
    "        if topic: msg[\"topic\"] = topic\n",
    "        for k,v in kwargs.items(): msg[\"k\"] = v\n",
    "        \n",
    "        if self._use_json: msg = {0:msg} #json messages always require multi-message format\n",
    "        else: pass #bson messages use a different type of concatenation\n",
    "        \n",
    "        self.send(msg,retries)        \n",
    "    \n",
    "    def send(self,msg,retries=1):\n",
    "        \"\"\"send message to HMB session. Handles disconnections and retries\n",
    "        sending the message. The message should have the correct hmb format.\n",
    "        \"\"\"                    \n",
    "        for i in range(retries+1):\n",
    "            try:\n",
    "                if not self._sid:\n",
    "                    self._open()\n",
    "                self._send(msg)\n",
    "            except Exception as e:\n",
    "                self._sid = None #mark session as closed\n",
    "                if i == retries:\n",
    "                    self._logger.error(\"error: %s\",str(e))\n",
    "                    self._logger.error(\"problem msg: %s\", msg) #the first time it probably isn't the message's fault\n",
    "                elif i == 0:\n",
    "                    self._logger.info(\"error: %s\",str(e))\n",
    "                    self._logger.info(\"closing connection to message bus lost, retrying\")\n",
    "                else:\n",
    "                    self._logger.warning(\"error: %s\",str(e))\n",
    "                    self._logger.warning(\"problem msg: %s\", msg) #the first time it probably isn't the message's fault\n",
    "                    self._logger.warning(\"closing connection to message bus lost, retrying in %d seconds\", self.retry_wait)\n",
    "                    time.sleep(self.retry_wait) #don't wait on the first retry\n",
    "                    \n",
    "            else: #if no exceptions -\n",
    "                break\n",
    "        \n",
    "    def _send(self,msg):\n",
    "        \"\"\"actually sends message to HMB session\"\"\"\n",
    "        r = requests.post(self.url + '/send/' + self._sid,\n",
    "                    headers={\"Content-type\": \"application/json\" if self._use_json else \"application/bson\"},\n",
    "                    data=json.dumps(msg,allow_nan=False) if self._use_json else bson.BSON.encode(msg),\n",
    "                    **self.connection_kwargs)\n",
    "\n",
    "        if r.status_code == 400:\n",
    "            raise requests.exceptions.RequestException(\"bad request: \" + r.text.strip())\n",
    "\n",
    "        elif r.status_code == 503:\n",
    "            raise requests.exceptions.RequestException(\"service unavailable: \" + r.text.strip())\n",
    "\n",
    "        r.raise_for_status()        \n",
    "    \n",
    "    def recv_all(self,retries=1,timeout=None):\n",
    "        \"\"\"receives all messages from an HMB query. This should not be \n",
    "        used for realtime operation.\"\"\"\n",
    "        starttime = time.time()\n",
    "        starttime -= 0.2 #correction factor so that timeout works as expected.\n",
    "        messages = [] \n",
    "        while True:\n",
    "            subset = self.recv(retries=retries)\n",
    "            if not subset: #no messages received\n",
    "                pass #(continue)\n",
    "            elif subset[-1]['type'] != 'EOF':\n",
    "                messages += subset\n",
    "            else:\n",
    "                messages += subset[:-1]\n",
    "                break\n",
    "            \n",
    "            if timeout and time.time() > starttime + timeout:\n",
    "                self._sid = None\n",
    "                break\n",
    "        return messages\n",
    "        \n",
    "    def recv(self,retries=1):\n",
    "        \"\"\"receives messages from HMB session. Request is blocking until the \n",
    "        next heartbeat message if \"keep=True\" is specified in the connection\n",
    "        parameters for any of the queues.. HEARTBEAT messages are \n",
    "        elimated but EOF messages are kept so that we know when the end of \n",
    "        the stream is reached.\"\"\"\n",
    "        messages = []\n",
    "        \n",
    "        for i in range(retries+1):\n",
    "            try:\n",
    "                if not self._sid:\n",
    "                    self._open()\n",
    "                messages = self._recv()\n",
    "            except Exception as e:\n",
    "                self._sid = None #mark session as closed\n",
    "                if i == retries:\n",
    "                    self._logger.error(\"error: %s\",str(e))\n",
    "                elif i == 0:\n",
    "                    self._logger.info(\"error: %s\",str(e))\n",
    "                    self._logger.info(\"connection to message bus lost, retrying\")\n",
    "                else:\n",
    "                    self._logger.warning(\"error: %s\",str(e))\n",
    "                    self._logger.warning(\"connection to message bus lost, retrying in %d seconds\", self.retry_wait)\n",
    "                    time.sleep(self.retry_wait) #don't wait on the first retry\n",
    "                \n",
    "            else: #if no exceptions.\n",
    "                break\n",
    "        #else:\n",
    "        #    raise\n",
    "                \n",
    "        #eliminate HEARTBEAT messages\n",
    "        messages = [m for m in messages if m['type'] not in ('HEARTBEAT',)]\n",
    "        return messages\n",
    "                \n",
    "    def _recv(self):\n",
    "        \"\"\"actually receive messages from HMB. Request is blocking if \"keep=True\"\n",
    "        is specified in the connection parameters for any of the queues.\"\"\"\n",
    "        r = requests.get(self.url + '/recv/' + self._sid + self._oid, **self.connection_kwargs)\n",
    "        \n",
    "        if r.status_code == 400:\n",
    "            raise requests.exceptions.RequestException(\"bad request: \" + r.text.strip())\n",
    "\n",
    "        elif r.status_code == 503:\n",
    "            raise requests.exceptions.RequestException(\"service unavailable: \" + r.text.strip())\n",
    "\n",
    "        r.raise_for_status()\n",
    "        \n",
    "        if self._use_json:\n",
    "            msgdict = r.json() # can be multiple messages\n",
    "            messages = [msgdict[str(i)] for i in range(len(msgdict))] #convert to list\n",
    "        else: #bson\n",
    "            messages = bson.decode_all(r.content)\n",
    "            \n",
    "        #print r.content\n",
    "        #print \n",
    "        #print msgdict\n",
    "        #print\n",
    "        \n",
    "        ###\n",
    "        seqnum = None\n",
    "        for obj in messages:\n",
    "            #extracts sequence number from messages to ensure future continuity of messages received.\n",
    "            if 'seq' in obj and 'queue' in obj:\n",
    "                seqnum = obj['seq']\n",
    "                if isinstance(seqnum,numbers.Integral):\n",
    "                    if seqnum >= self.param['queue'][obj['queue']]['seq']:\n",
    "                        self.param['queue'][obj['queue']]['seq'] = seqnum + 1 #next message number\n",
    "                    self._oid = '/%s/%d' % (obj['queue'], seqnum)\n",
    "        \n",
    "        #closing session if EOF message is last message received\n",
    "        if obj['type'] == 'EOF': #will always be the last message?\n",
    "            self._sid = None #close current session when we reach latest message.\n",
    "        \n",
    "        #changing queues to realtime mode\n",
    "        #is this useful?\n",
    "        \"\"\" \n",
    "        try:\n",
    "            if obj['type'] == 'EOF':\n",
    "                self._sid = None #close current session when we reach latest message.\n",
    "\n",
    "                for q in self.param['queue'].values():\n",
    "                    q['keep'] = True #change session connection parameters to keep session alive \n",
    "        except KeyError:\n",
    "            pass\n",
    "        \"\"\"\n",
    "        ###\n",
    "        \n",
    "        return messages\n",
    "\n",
    "    \n",
    "#############################\n",
    "\n",
    "\n",
    "def example0():\n",
    "    \"\"\"Very basic example of receiving HMB messages\"\"\"\n",
    "    # Choose here the bus to subsribe:\n",
    "    #hmbbus='http://cerf.emsc-csem.org:80/MTtest_rule0' # CLOSEST\n",
    "    hmbbus='http://cerf.emsc-csem.org:80/MTtest_rule1' # FASTER\n",
    "    #hmbbus='http://cerf.emsc-csem.org:80/MTtest_rule2' # STRONGEST\n",
    "    #hmbbus='http://cerf.emsc-csem.org:80/MTtest_rule3' # HIGHEST\n",
    "    \n",
    "    param = {\n",
    "            'queue': {\n",
    "                'SYSTEM_ALERT': { #choose queue to listen on\n",
    "                        'seq': -5,  #choose message to start at.\n",
    "                        'keep': True  #make request blocking\n",
    "                        }\n",
    "                }\n",
    "            }\n",
    "    #each message in the queue has a sequence number. Setting:\n",
    "    #seq=-1 => start with next new message\n",
    "    #seq=-2 => start with most recent message\n",
    "    #seq=-3 => start with message before the last message.\n",
    "    #...\n",
    "    #seq=10 => start with the 10th message in the queue\n",
    "    \n",
    "    hmbconn = Hmbsession(url=hmbbus, param=param, use_bson=False)\n",
    "    \n",
    "    msgs = hmbconn.recv()\n",
    "    for msg in msgs:\n",
    "        logger.info('msg: %r',msg)\n",
    "        \n",
    "def example1():\n",
    "    \"\"\"Basic example of receiving HMB messages with some robustness\"\"\"\n",
    "    # Choose here the bus to subsribe:\n",
    "    #hmbbus='http://cerf.emsc-csem.org:80/MTtest_rule0' # CLOSEST\n",
    "    hmbbus='http://cerf.emsc-csem.org:80/MTtest_rule1' # FASTER\n",
    "    #hmbbus='http://cerf.emsc-csem.org:80/MTtest_rule2' # STRONGEST\n",
    "    #hmbbus='http://cerf.emsc-csem.org:80/MTtest_rule3' # HIGHEST\n",
    "    \n",
    "    param = {\n",
    "            'heartbeat': 10, #sec\n",
    "            'queue': {\n",
    "                'SYSTEM_ALERT': { #choose queue to listen on\n",
    "                        'seq': -1,  #choose message to start at.\n",
    "                        'keep': True,  #make request blocking\n",
    "                        #'topics': [],\n",
    "                        }\n",
    "                }\n",
    "            }\n",
    "    \n",
    "    hmbconn = Hmbsession(url=hmbbus, param=param, use_bson=True, retry_wait=2, timeout=(6.05,11), autocreate_queues=True)\n",
    "    #setup timeouts just longer than the heartbeat rate\n",
    "    #set a delay between retries\n",
    "        \n",
    "    while True:\n",
    "        msgs = hmbconn.recv(retries=10)\n",
    "        #the method will retry in the event of an error or timeout by reopening a\n",
    "        #new connection to the server and trying again.\n",
    "        \n",
    "        #nb. msgs might be empty due to eliminated heartbeat messages\n",
    "        for msg in msgs:\n",
    "            logger.info('msg: %r',msg)\n",
    "    \n",
    "\n",
    "#if __name__ == \"__main__\":\n"
   ]
  },
  {
   "cell_type": "code",
   "execution_count": null,
   "metadata": {
    "collapsed": false
   },
   "outputs": [
    {
     "name": "stderr",
     "output_type": "stream",
     "text": [
      "2018-07-11 13:44:11,093 - INFO - hmb_messaging.29492 - session opened, sid=AAVwuXEG6PZxP1v-, cid=aoZMRcVJGb1ZXREK\n",
      "2018-07-11 13:44:11,094 - INFO - hmb_messaging.29492 - session parameters are: {'queue': {'SYSTEM_ALERT': {'seq': 1L, 'keep': True}}, 'heartbeat': 10, 'cid': u'aoZMRcVJGb1ZXREK'}\n"
     ]
    }
   ],
   "source": [
    "example1()\n",
    "#example0()"
   ]
  },
  {
   "cell_type": "code",
   "execution_count": null,
   "metadata": {
    "collapsed": true
   },
   "outputs": [],
   "source": []
  }
 ],
 "metadata": {
  "anaconda-cloud": {},
  "extensions": {
   "jupyter_dashboards": {
    "activeView": "grid_default",
    "version": 1,
    "views": {
     "grid_default": {
      "cellMargin": 10,
      "defaultCellHeight": 20,
      "maxColumns": 12,
      "name": "grid",
      "type": "grid"
     },
     "report_default": {
      "name": "report",
      "type": "report"
     }
    }
   }
  },
  "kernelspec": {
   "display_name": "Python [conda env:py2test]",
   "language": "python",
   "name": "conda-env-py2test-py"
  },
  "language_info": {
   "codemirror_mode": {
    "name": "ipython",
    "version": 2
   },
   "file_extension": ".py",
   "mimetype": "text/x-python",
   "name": "python",
   "nbconvert_exporter": "python",
   "pygments_lexer": "ipython2",
   "version": "2.7.12"
  }
 },
 "nbformat": 4,
 "nbformat_minor": 2
}
