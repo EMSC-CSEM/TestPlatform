{
 "cells": [
  {
   "cell_type": "markdown",
   "metadata": {
    "extensions": {
     "jupyter_dashboards": {
      "version": 1,
      "views": {
       "grid_default": {
        "col": 0,
        "height": 14,
        "hidden": false,
        "row": 64,
        "width": 12
       },
       "report_default": {}
      }
     }
    }
   },
   "source": [
    "# About Web Services\n",
    "\n",
    "---\n",
    "\n",
    "---\n",
    "\n",
    "Web service idea is to access information via an *URL*, instead of a *web page* displayed in a web browser, and to get raw data.\n",
    "\n",
    "The principle consist to build an URL with some parameters depending on the data we want to retrieve.\n",
    "\n",
    "Parameters are generally defined by the web service specifications.\n",
    "\n",
    "Here is describe the basics on how to use the web services developped at EMSC with Python and / or Bash shell:\n",
    "\n",
    "\n",
    "[[1]](#sec_01) Practical overview\n",
    "\n",
    "[[2]](#sec_02) First use in Python\n",
    "\n",
    "[[3]](#sec_03) First use in Bash shell\n",
    "\n",
    "[[4]](#sec_04) Choice of the output format\n",
    "\n",
    "   * [[4.1]](#sec_04.1) Parsing JSON output\n",
    "   * [[4.2]](#sec_04.2) Parsing QuakeML"
   ]
  },
  {
   "cell_type": "markdown",
   "metadata": {
    "extensions": {
     "jupyter_dashboards": {
      "version": 1,
      "views": {
       "grid_default": {
        "col": 0,
        "height": 13,
        "hidden": false,
        "row": 78,
        "width": 12
       },
       "report_default": {}
      }
     }
    }
   },
   "source": [
    "<a id='sec_01'></a>\n",
    "## 1. Practical overview\n",
    "\n",
    "From an user perspective, a web service is just an url!\n",
    "> e.g. http://www.seismicportal.eu/fdsnws/event/1/query?limit=10&start=2017-09-01&end=2017-11-01&format=text&minmag=6.5\n",
    "\n",
    "It's composed of: \n",
    " * a protocal: *http*,\n",
    " * an hostname: *www.seismicportal.eu*,\n",
    " * a path: */fdsnws/event/1/query* and, \n",
    " * a query: *?limit=10&start=2017-09-01&end=2017-11-01&format=text&minmag=6.5* (...with different attributs *limit*, *start*, *format* and *minmag* and their values).\n",
    "\n",
    "From a practical point of view, we just have to \n",
    " 1. Build the url\n",
    " 2. Download the result\n",
    " 3. Parse the output"
   ]
  },
  {
   "cell_type": "markdown",
   "metadata": {
    "extensions": {
     "jupyter_dashboards": {
      "version": 1,
      "views": {
       "grid_default": {
        "col": 8,
        "height": 4,
        "hidden": false,
        "row": 25,
        "width": 4
       },
       "report_default": {}
      }
     }
    }
   },
   "source": [
    "<a id='sec_02'></a>\n",
    "## 2. First use in Python"
   ]
  },
  {
   "cell_type": "markdown",
   "metadata": {},
   "source": [
    "Let's start with the *fdsn-event* web service (http://www.seismicportal.eu/fdsn-wsevent.html).\n",
    "\n",
    "Build a query to retrieve seismic events from September 1st to November 1st, 2017 with a magnitude greater than 6.5:\n",
    "\n",
    " * Web service **prefix** is: http://www.seismicportal.eu/fdsnws/event/1/query\n",
    " * **Parameters** are: *start=2017-09-01*, *end=2017-11-01*, *minmag=6.5* and *format=text*\n",
    "\n",
    "The resulting url will be (*http://prefix\\query*):\n",
    "> http://www.seismicportal.eu/fdsnws/event/1/query\\?start=2017-09-01&end=2017-11-01&format=text&minmag=6.5"
   ]
  },
  {
   "cell_type": "code",
   "execution_count": 209,
   "metadata": {
    "collapsed": true
   },
   "outputs": [],
   "source": [
    "# -------------------------------------\n",
    "#      Main functions used below\n",
    "# -------------------------------------\n",
    "# Func-Download\n",
    "def geturl(url):\n",
    "    import requests\n",
    "    from StringIO import StringIO\n",
    "    res = requests.get(url, timeout=15)\n",
    "    return {'status': res.status_code,\n",
    "            'content': res.text}\n",
    "\n",
    "# Func-Parse (txt)\n",
    "def parsecsv(txt, usedict=False):\n",
    "    import csv\n",
    "    if usedict:\n",
    "        parser = csv.DictReader(StringIO(txt), delimiter='|')\n",
    "    else:\n",
    "        parser = csv.reader(StringIO(txt), delimiter='|')\n",
    "        header = parser.next()\n",
    "    return [ line for line in parser]\n",
    "\n",
    "# Func-Parse (json)\n",
    "def parsejson(txt):\n",
    "    import json\n",
    "    return json.loads(txt)\n",
    "\n",
    "# Func-Parse (xml)\n",
    "def parsexml(url):\n",
    "   from obspy import read_events\n",
    "   return read_events(url)"
   ]
  },
  {
   "cell_type": "code",
   "execution_count": 210,
   "metadata": {
    "collapsed": true
   },
   "outputs": [],
   "source": [
    "#Build the url\n",
    "url = \"http://www.seismicportal.eu/fdsnws/event/1/query\\\n",
    "?start=2017-09-01&end=2017-11-01&format=text&minmag={minmag}\".format(minmag=6.5)"
   ]
  },
  {
   "cell_type": "markdown",
   "metadata": {},
   "source": [
    "The **geturl** Python function was previously defined in order to download data from an url:\n",
    "\n",
    "Let's download data !"
   ]
  },
  {
   "cell_type": "code",
   "execution_count": 211,
   "metadata": {
    "collapsed": false,
    "scrolled": true
   },
   "outputs": [
    {
     "name": "stdout",
     "output_type": "stream",
     "text": [
      "[['20171031_0000002', '2017-10-31T00:42:12.4Z', '-21.71', '169.11', '25.0', 'EMSC', 'EMSC-RTS', 'EMSC', '627167', 'mw', '6.8', 'EMSC', 'SOUTHEAST OF LOYALTY ISLANDS'], ['20171024_0000031', '2017-10-24T10:47:47.2Z', '-7.33', '123.03', '548.0', 'EMSC', 'EMSC-RTS', 'EMSC', '626022', 'mw', '6.7', 'EMSC', 'BANDA SEA'], ['20171010_0000169', '2017-10-10T18:53:33.6Z', '-54.33', '8.49', '10.0', 'EMSC', 'EMSC-RTS', 'EMSC', '623367', 'mw', '6.7', 'EMSC', 'BOUVET ISLAND REGION'], ['20171008_0000103', '2017-10-08T22:34:33.5Z', '52.37', '176.83', '121.0', 'EMSC', 'EMSC-RTS', 'EMSC', '622928', 'mw', '6.6', 'EMSC', 'RAT ISLANDS, ALEUTIAN ISLANDS'], ['20170919_0000091', '2017-09-19T18:14:38.5Z', '18.59', '-98.47', '50.0', 'EMSC', 'EMSC-RTS', 'EMSC', '619258', 'mw', '7.1', 'EMSC', 'PUEBLA, MEXICO'], ['20170908_0000020', '2017-09-08T04:49:21.2Z', '15.02', '-93.81', '72.0', 'EMSC', 'EMSC-RTS', 'EMSC', '616600', 'mw', '8.1', 'EMSC', 'OFFSHORE CHIAPAS, MEXICO']]\n"
     ]
    }
   ],
   "source": [
    "res = geturl(url)\n",
    "print parsecsv(res['content']) # Print the download result:"
   ]
  },
  {
   "cell_type": "markdown",
   "metadata": {},
   "source": [
    "Now we need to parse the output !"
   ]
  },
  {
   "cell_type": "code",
   "execution_count": 212,
   "metadata": {
    "collapsed": false,
    "extensions": {
     "jupyter_dashboards": {
      "version": 1,
      "views": {
       "grid_default": {
        "col": 8,
        "height": 20,
        "hidden": false,
        "row": 29,
        "width": 4
       },
       "report_default": {}
      }
     }
    }
   },
   "outputs": [
    {
     "name": "stdout",
     "output_type": "stream",
     "text": [
      "['20171031_0000002', '2017-10-31T00:42:12.4Z', '-21.71', '169.11', '25.0', 'EMSC', 'EMSC-RTS', 'EMSC', '627167', 'mw', '6.8', 'EMSC', 'SOUTHEAST OF LOYALTY ISLANDS']\n",
      "['20171024_0000031', '2017-10-24T10:47:47.2Z', '-7.33', '123.03', '548.0', 'EMSC', 'EMSC-RTS', 'EMSC', '626022', 'mw', '6.7', 'EMSC', 'BANDA SEA']\n",
      "['20171010_0000169', '2017-10-10T18:53:33.6Z', '-54.33', '8.49', '10.0', 'EMSC', 'EMSC-RTS', 'EMSC', '623367', 'mw', '6.7', 'EMSC', 'BOUVET ISLAND REGION']\n",
      "['20171008_0000103', '2017-10-08T22:34:33.5Z', '52.37', '176.83', '121.0', 'EMSC', 'EMSC-RTS', 'EMSC', '622928', 'mw', '6.6', 'EMSC', 'RAT ISLANDS, ALEUTIAN ISLANDS']\n",
      "['20170919_0000091', '2017-09-19T18:14:38.5Z', '18.59', '-98.47', '50.0', 'EMSC', 'EMSC-RTS', 'EMSC', '619258', 'mw', '7.1', 'EMSC', 'PUEBLA, MEXICO']\n",
      "['20170908_0000020', '2017-09-08T04:49:21.2Z', '15.02', '-93.81', '72.0', 'EMSC', 'EMSC-RTS', 'EMSC', '616600', 'mw', '8.1', 'EMSC', 'OFFSHORE CHIAPAS, MEXICO']\n",
      "\n",
      "And we get 13 events !\n"
     ]
    }
   ],
   "source": [
    "#Parse the result\n",
    "for row in parsecsv(res['content']):\n",
    "    print row\n",
    "\n",
    "print(\"\\nAnd we get {0} events !\".format(len(row)))"
   ]
  },
  {
   "cell_type": "markdown",
   "metadata": {
    "extensions": {
     "jupyter_dashboards": {
      "version": 1,
      "views": {
       "grid_default": {
        "col": 4,
        "height": 4,
        "hidden": false,
        "row": 46,
        "width": 4
       },
       "report_default": {}
      }
     }
    }
   },
   "source": [
    "<a id='sec_03'></a>\n",
    "## 3. First use in Bash shell\n",
    "\n",
    "Same example in shell. "
   ]
  },
  {
   "cell_type": "code",
   "execution_count": 213,
   "metadata": {
    "collapsed": false,
    "extensions": {
     "jupyter_dashboards": {
      "version": 1,
      "views": {
       "grid_default": {
        "col": 0,
        "height": 22,
        "hidden": false,
        "row": 91,
        "width": 4
       },
       "report_default": {}
      }
     }
    }
   },
   "outputs": [
    {
     "name": "stdout",
     "output_type": "stream",
     "text": [
      "*** Url building\n",
      "url=http://www.seismicportal.eu/fdsnws/event/1/query?start=2017-09-01&end=2017-11-01&format=text&minmag=6.5\n",
      "\n",
      "*** Web service output ***\n",
      "#EventID | Time | Latitude | Longitude | Depth/km | Author | Catalog | Contributor | ContributorID | MagType | Magnitude | MagAuthor | EventLocationName\n",
      "20171031_0000002|2017-10-31T00:42:12.4Z|-21.71|169.11|25.0|EMSC|EMSC-RTS|EMSC|627167|mw|6.8|EMSC|SOUTHEAST OF LOYALTY ISLANDS\n",
      "20171024_0000031|2017-10-24T10:47:47.2Z|-7.33|123.03|548.0|EMSC|EMSC-RTS|EMSC|626022|mw|6.7|EMSC|BANDA SEA\n",
      "20171010_0000169|2017-10-10T18:53:33.6Z|-54.33|8.49|10.0|EMSC|EMSC-RTS|EMSC|623367|mw|6.7|EMSC|BOUVET ISLAND REGION\n",
      "20171008_0000103|2017-10-08T22:34:33.5Z|52.37|176.83|121.0|EMSC|EMSC-RTS|EMSC|622928|mw|6.6|EMSC|RAT ISLANDS, ALEUTIAN ISLANDS\n",
      "20170919_0000091|2017-09-19T18:14:38.5Z|18.59|-98.47|50.0|EMSC|EMSC-RTS|EMSC|619258|mw|7.1|EMSC|PUEBLA, MEXICO\n",
      "20170908_0000020|2017-09-08T04:49:21.2Z|15.02|-93.81|72.0|EMSC|EMSC-RTS|EMSC|616600|mw|8.1|EMSC|OFFSHORE CHIAPAS, MEXICO\n",
      "\n",
      "*** Parsing ***\n",
      "unid:20171031_0000002, Origin Time:2017-10-31T00:42:12.4Z, Magnitude:6.8, Region:SOUTHEAST OF LOYALTY ISLANDS\n",
      "unid:20171024_0000031, Origin Time:2017-10-24T10:47:47.2Z, Magnitude:6.7, Region:BANDA SEA\n",
      "unid:20171010_0000169, Origin Time:2017-10-10T18:53:33.6Z, Magnitude:6.7, Region:BOUVET ISLAND REGION\n",
      "unid:20171008_0000103, Origin Time:2017-10-08T22:34:33.5Z, Magnitude:6.6, Region:RAT ISLANDS, ALEUTIAN ISLANDS\n",
      "unid:20170919_0000091, Origin Time:2017-09-19T18:14:38.5Z, Magnitude:7.1, Region:PUEBLA, MEXICO\n",
      "unid:20170908_0000020, Origin Time:2017-09-08T04:49:21.2Z, Magnitude:8.1, Region:OFFSHORE CHIAPAS, MEXICO\n"
     ]
    }
   ],
   "source": [
    "%%bash \n",
    "exec 2> /dev/null\n",
    "\n",
    "echo \"*** Url building\"\n",
    "MINMAG=6.5\n",
    "url=\"http://www.seismicportal.eu/fdsnws/event/1/query?start=2017-09-01&end=2017-11-01&format=text&minmag=$MINMAG\"\n",
    "echo \"url=${url}\"\n",
    "\n",
    "echo\n",
    "echo \"*** Web service output ***\"\n",
    "wget -O res.txt ${url}\n",
    "cat res.txt\n",
    "\n",
    "echo\n",
    "echo \"*** Parsing ***\"\n",
    "awk -F'|' '!/^#/ {printf \"unid:%s, Origin Time:%s, Magnitude:%s, Region:%s\\n\", $1, $2, $11, $13}' res.txt"
   ]
  },
  {
   "cell_type": "markdown",
   "metadata": {
    "extensions": {
     "jupyter_dashboards": {
      "version": 1,
      "views": {
       "grid_default": {
        "col": 0,
        "height": 4,
        "hidden": false,
        "row": 0,
        "width": 4
       },
       "report_default": {}
      }
     }
    }
   },
   "source": [
    "<a id='sec_04'></a>\n",
    "## 4. Choice of the output format\n",
    "\n",
    "It's important to know the parameters available at the web service specification to customize the request for your exact need. For instance, the choice of the output format is important. Because it may be more or less easy to parse the results and because it depends on the information that you need.\n",
    "\n",
    "At the moment we have chosen\n",
    "\n",
    "> &format=text\n",
    "\n",
    "**text** is a good choice for shell use or for human eyes.\n",
    "\n",
    "However, for fdsn-event web service, you also have the choice of \n",
    "**json** and **xml**.\n",
    "\n"
   ]
  },
  {
   "cell_type": "markdown",
   "metadata": {
    "extensions": {
     "jupyter_dashboards": {
      "version": 1,
      "views": {
       "grid_default": {
        "col": 8,
        "height": 4,
        "hidden": false,
        "row": 49,
        "width": 4
       },
       "report_default": {}
      }
     }
    }
   },
   "source": [
    "<a id='sec_04.1'></a>\n",
    "### 4.1 Parsing JSON output"
   ]
  },
  {
   "cell_type": "code",
   "execution_count": 214,
   "metadata": {
    "collapsed": false,
    "extensions": {
     "jupyter_dashboards": {
      "version": 1,
      "views": {
       "grid_default": {
        "hidden": true
       },
       "report_default": {}
      }
     }
    }
   },
   "outputs": [],
   "source": [
    "url = \"http://www.seismicportal.eu/fdsnws/event/1/query?start=2017-09-01&end=2017-11-01&minmag=6.5&format=json\""
   ]
  },
  {
   "cell_type": "markdown",
   "metadata": {
    "extensions": {
     "jupyter_dashboards": {
      "version": 1,
      "views": {
       "grid_default": {
        "col": 4,
        "height": 4,
        "hidden": false,
        "row": 50,
        "width": 4
       },
       "report_default": {}
      }
     }
    }
   },
   "source": [
    "Note the **&format=json** in the url. Now we get the content:"
   ]
  },
  {
   "cell_type": "code",
   "execution_count": 215,
   "metadata": {
    "collapsed": false,
    "extensions": {
     "jupyter_dashboards": {
      "version": 1,
      "views": {
       "grid_default": {
        "col": 4,
        "height": 13,
        "hidden": false,
        "row": 91,
        "width": 4
       },
       "report_default": {}
      }
     }
    }
   },
   "outputs": [
    {
     "name": "stdout",
     "output_type": "stream",
     "text": [
      "{\"type\":\"FeatureCollection\",\"metadata\":{\"totalCount\":6},\"features\":[{\n",
      "  \"geometry\": {\n",
      "    \"type\": \"Point\", \n",
      "    \"coordinates\": [\n",
      "      169.11, \n",
      "      -21.71, \n",
      "      -25.0\n",
      "    ]\n",
      "  }, \n",
      "  \"type\": \"Feature\", \n",
      "  \"id\": \"20171031_0000002\", \n",
      "  \"properties\": {\n",
      "    \"lastupdate\": \"2017-10-31T06:24:00.0Z\", \n",
      "    \"magtype\": \"mw\", \n",
      "    \"evtype\": \"ke\", \n",
      "    \"lon\": 169.11, \n",
      "    \"auth\": \"EMSC\", \n",
      "    \"lat\": -21.71, \n"
     ]
    }
   ],
   "source": [
    "info = geturl(url)\n",
    "print info['content'][:400]"
   ]
  },
  {
   "cell_type": "markdown",
   "metadata": {
    "extensions": {
     "jupyter_dashboards": {
      "version": 1,
      "views": {
       "grid_default": {
        "col": 8,
        "height": 4,
        "hidden": false,
        "row": 53,
        "width": 4
       },
       "report_default": {}
      }
     }
    }
   },
   "source": [
    "And finally the parsing process:"
   ]
  },
  {
   "cell_type": "code",
   "execution_count": 216,
   "metadata": {
    "collapsed": false,
    "extensions": {
     "jupyter_dashboards": {
      "version": 1,
      "views": {
       "grid_default": {
        "col": 4,
        "height": 4,
        "hidden": false,
        "row": 54,
        "width": 4
       },
       "report_default": {}
      }
     }
    }
   },
   "outputs": [
    {
     "name": "stdout",
     "output_type": "stream",
     "text": [
      "Type of the parsed data: <type 'dict'>\n",
      "List of keys: [u'type', u'features', u'metadata']\n"
     ]
    }
   ],
   "source": [
    "data = parsejson(info['content'])\n",
    "\n",
    "print \"Type of the parsed data:\", type(data)\n",
    "print \"List of keys:\", data.keys()"
   ]
  },
  {
   "cell_type": "code",
   "execution_count": 217,
   "metadata": {
    "collapsed": false,
    "extensions": {
     "jupyter_dashboards": {
      "version": 1,
      "views": {
       "grid_default": {
        "col": 0,
        "height": 27,
        "hidden": false,
        "row": 4,
        "width": 4
       },
       "report_default": {}
      }
     }
    }
   },
   "outputs": [
    {
     "name": "stdout",
     "output_type": "stream",
     "text": [
      "==> Event: 20171031_0000002\n",
      "{u'lastupdate': u'2017-10-31T06:24:00.0Z', u'magtype': u'mw', u'time': u'2017-10-31T00:42:12.4Z', u'lon': 169.11, u'auth': u'EMSC', u'source_id': u'627167', u'depth': 25.0, u'unid': u'20171031_0000002', u'mag': 6.8, u'evtype': u'ke', u'lat': -21.71, u'source_catalog': u'EMSC-RTS', u'flynn_region': u'SOUTHEAST OF LOYALTY ISLANDS'}\n",
      "\n",
      "==> Event: 20171024_0000031\n",
      "{u'lastupdate': u'2017-10-24T11:06:00.0Z', u'magtype': u'mw', u'time': u'2017-10-24T10:47:47.2Z', u'lon': 123.03, u'auth': u'EMSC', u'source_id': u'626022', u'depth': 548.0, u'unid': u'20171024_0000031', u'mag': 6.7, u'evtype': u'ke', u'lat': -7.33, u'source_catalog': u'EMSC-RTS', u'flynn_region': u'BANDA SEA'}\n",
      "\n",
      "==> Event: 20171010_0000169\n",
      "{u'lastupdate': u'2017-10-11T06:50:00.0Z', u'magtype': u'mw', u'time': u'2017-10-10T18:53:33.6Z', u'lon': 8.49, u'auth': u'EMSC', u'source_id': u'623367', u'depth': 10.0, u'unid': u'20171010_0000169', u'mag': 6.7, u'evtype': u'ke', u'lat': -54.33, u'source_catalog': u'EMSC-RTS', u'flynn_region': u'BOUVET ISLAND REGION'}\n",
      "\n",
      "==> Event: 20171008_0000103\n",
      "{u'lastupdate': u'2017-10-08T22:47:00.0Z', u'magtype': u'mw', u'time': u'2017-10-08T22:34:33.5Z', u'lon': 176.83, u'auth': u'EMSC', u'source_id': u'622928', u'depth': 121.0, u'unid': u'20171008_0000103', u'mag': 6.6, u'evtype': u'ke', u'lat': 52.37, u'source_catalog': u'EMSC-RTS', u'flynn_region': u'RAT ISLANDS, ALEUTIAN ISLANDS'}\n",
      "\n",
      "==> Event: 20170919_0000091\n",
      "{u'lastupdate': u'2017-09-19T18:42:00.0Z', u'magtype': u'mw', u'time': u'2017-09-19T18:14:38.5Z', u'lon': -98.47, u'auth': u'EMSC', u'source_id': u'619258', u'depth': 50.0, u'unid': u'20170919_0000091', u'mag': 7.1, u'evtype': u'ke', u'lat': 18.59, u'source_catalog': u'EMSC-RTS', u'flynn_region': u'PUEBLA, MEXICO'}\n",
      "\n",
      "==> Event: 20170908_0000020\n",
      "{u'lastupdate': u'2017-09-08T06:19:00.0Z', u'magtype': u'mw', u'time': u'2017-09-08T04:49:21.2Z', u'lon': -93.81, u'auth': u'EMSC', u'source_id': u'616600', u'depth': 72.0, u'unid': u'20170908_0000020', u'mag': 8.1, u'evtype': u'ke', u'lat': 15.02, u'source_catalog': u'EMSC-RTS', u'flynn_region': u'OFFSHORE CHIAPAS, MEXICO'}\n",
      "\n"
     ]
    }
   ],
   "source": [
    "# Event informations are in the 'features' attribute:\n",
    "for ev in data['features']:\n",
    "    print(\"==> Event: {0}\\n{1}\\n\".format(ev['id'], ev['properties']))"
   ]
  },
  {
   "cell_type": "markdown",
   "metadata": {
    "extensions": {
     "jupyter_dashboards": {
      "version": 1,
      "views": {
       "grid_default": {
        "col": 8,
        "height": 4,
        "hidden": false,
        "row": 57,
        "width": 4
       },
       "report_default": {}
      }
     }
    }
   },
   "source": [
    "<a id='sec_04.2'></a>\n",
    "### 4.2 Parsing QuakeML\n",
    "\n",
    "For QuakeML, the easiest choice is to use the parser from Obspy."
   ]
  },
  {
   "cell_type": "code",
   "execution_count": 218,
   "metadata": {
    "collapsed": false,
    "extensions": {
     "jupyter_dashboards": {
      "version": 1,
      "views": {
       "grid_default": {
        "col": 4,
        "height": 6,
        "hidden": false,
        "row": 58,
        "width": 4
       },
       "report_default": {}
      }
     }
    }
   },
   "outputs": [
    {
     "name": "stdout",
     "output_type": "stream",
     "text": [
      "6 Event(s) in Catalog:\n",
      "2017-10-31T00:42:12.400000Z | -21.710, +169.110 | 6.8 mw | manual\n",
      "2017-10-24T10:47:47.200000Z |  -7.330, +123.030 | 6.7 mw | automatic\n",
      "2017-10-10T18:53:33.600000Z | -54.330,   +8.490 | 6.7 mw | manual\n",
      "2017-10-08T22:34:33.500000Z | +52.370, +176.830 | 6.6 mw | manual\n",
      "2017-09-19T18:14:38.500000Z | +18.590,  -98.470 | 7.1 mw | manual\n",
      "2017-09-08T04:49:21.200000Z | +15.020,  -93.810 | 8.1 mw | manual\n"
     ]
    }
   ],
   "source": [
    "url = \"http://www.seismicportal.eu/fdsnws/event/1/query?start=2017-09-01&end=2017-11-01&minmag=6.5&format=xml\"\n",
    "data = parsexml(url)\n",
    "print data"
   ]
  }
 ],
 "metadata": {
  "anaconda-cloud": {},
  "extensions": {
   "jupyter_dashboards": {
    "activeView": "grid_default",
    "version": 1,
    "views": {
     "grid_default": {
      "cellMargin": 10,
      "defaultCellHeight": 20,
      "maxColumns": 12,
      "name": "grid",
      "type": "grid"
     },
     "report_default": {
      "name": "report",
      "type": "report"
     }
    }
   }
  },
  "kernelspec": {
   "display_name": "Python [conda env:py2test]",
   "language": "python",
   "name": "conda-env-py2test-py"
  },
  "language_info": {
   "codemirror_mode": {
    "name": "ipython",
    "version": 2
   },
   "file_extension": ".py",
   "mimetype": "text/x-python",
   "name": "python",
   "nbconvert_exporter": "python",
   "pygments_lexer": "ipython2",
   "version": "2.7.12"
  }
 },
 "nbformat": 4,
 "nbformat_minor": 1
}
